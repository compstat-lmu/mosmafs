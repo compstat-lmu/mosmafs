{
 "cells": [
  {
   "cell_type": "markdown",
   "metadata": {},
   "source": [
    "# MOSMAFS -  Multi-objective vs. Single-objective\n",
    "\n",
    "### Research questions: \n",
    "\n",
    "* _Evolutionary vs. Bayesian Optimization_: How do the proposed methods - the evolutionary and the Bayesian optimization approach - perform in comparison to each other?\n",
    "* _Effect of Filter Ensembles_: Do the methods benefit from using filter ensembles?\n",
    "* _Multi-Objective vs. Single-Objective_: Does multi-objective optimization find much sparser solutions without a major loss in predictive performance compared to single-objective optimization? \n",
    "* **_Simultaneous Hyperparameter Tuning and Feature Selection_**: Is it beneficial to perform hyperparameter optimization and feature selection simultaneously compared to performing the tasks independently? "
   ]
  },
  {
   "cell_type": "markdown",
   "metadata": {},
   "source": [
    "## Setup"
   ]
  },
  {
   "cell_type": "code",
   "execution_count": 357,
   "metadata": {},
   "outputs": [],
   "source": [
    "# Load packages \n",
    "library(data.table)\n",
    "library(reshape2)\n",
    "library(mlr)\n",
    "library(ggplot2)\n",
    "library(batchtools)\n",
    "library(gridExtra)\n",
    "library(ggpubr)\n",
    "library(ggthemes)\n",
    "library(plyr)\n",
    "library(scmamp)\n",
    "library(xtable)"
   ]
  },
  {
   "cell_type": "code",
   "execution_count": 358,
   "metadata": {},
   "outputs": [],
   "source": [
    "# stetup for nice plots \n",
    "theme_set(theme_pubr())\n",
    "options(repr.plot.width=15, repr.plot.height=15)"
   ]
  },
  {
   "cell_type": "code",
   "execution_count": 359,
   "metadata": {},
   "outputs": [],
   "source": [
    "source(\"../helpers.R\")"
   ]
  },
  {
   "cell_type": "code",
   "execution_count": 360,
   "metadata": {},
   "outputs": [],
   "source": [
    "# path where all results are stored \n",
    "respath = \"result_data\""
   ]
  },
  {
   "cell_type": "code",
   "execution_count": 415,
   "metadata": {},
   "outputs": [],
   "source": [
    "# datasets included in the benchmark \n",
    "datasets = c(\"sonar\", \"ionosphere\",\n",
    "\t\"hill-valley\", \"wdbc\", \"tecator\", \"lsvt\", \"isolet\", \"cnae-9\", \n",
    "\t\"semeion\", \"AP_Breast_Colon\", \"arcene\", \n",
    "\t\"AP_Colon_Kidney\", \"madelon\", \"madeline\")"
   ]
  },
  {
   "cell_type": "code",
   "execution_count": 416,
   "metadata": {},
   "outputs": [],
   "source": [
    "tab = lapply(datasets, function(d) {\n",
    "    task = readRDS(file.path(\"../data\", d, \"task.rds\"))\n",
    "    class.dist = task$task.desc$class.distribution\n",
    "    cr = min(class.dist) / sum(class.dist)\n",
    "    data.table(id = getTaskId(task), n = getTaskSize(task), p = getTaskNFeats(task), class.ratio = cr)\n",
    "    })\n",
    "tab = do.call(rbind, tab)\n",
    "\n",
    "tab$np.ratio = tab$n / tab$p \n",
    "tab = tab[order(p), ]\n",
    "tab = cbind(1:nrow(tab), tab)"
   ]
  },
  {
   "cell_type": "code",
   "execution_count": 417,
   "metadata": {},
   "outputs": [
    {
     "data": {
      "text/html": [
       "<table>\n",
       "<caption>A data.table: 14 × 6</caption>\n",
       "<thead>\n",
       "\t<tr><th scope=col>V1</th><th scope=col>id</th><th scope=col>n</th><th scope=col>p</th><th scope=col>class.ratio</th><th scope=col>np.ratio</th></tr>\n",
       "\t<tr><th scope=col>&lt;int&gt;</th><th scope=col>&lt;chr&gt;</th><th scope=col>&lt;int&gt;</th><th scope=col>&lt;int&gt;</th><th scope=col>&lt;dbl&gt;</th><th scope=col>&lt;dbl&gt;</th></tr>\n",
       "</thead>\n",
       "<tbody>\n",
       "\t<tr><td> 1</td><td>wdbc           </td><td> 569</td><td>   30</td><td>0.3725835</td><td>18.96666667</td></tr>\n",
       "\t<tr><td> 2</td><td>ionosphere     </td><td> 351</td><td>   33</td><td>0.3589744</td><td>10.63636364</td></tr>\n",
       "\t<tr><td> 3</td><td>sonar          </td><td> 208</td><td>   60</td><td>0.4663462</td><td> 3.46666667</td></tr>\n",
       "\t<tr><td> 4</td><td>hill-valley    </td><td>1212</td><td>  100</td><td>0.4950495</td><td>12.12000000</td></tr>\n",
       "\t<tr><td> 5</td><td>tecator        </td><td> 240</td><td>  124</td><td>0.4250000</td><td> 1.93548387</td></tr>\n",
       "\t<tr><td> 6</td><td>semeion        </td><td> 319</td><td>  256</td><td>0.4952978</td><td> 1.24609375</td></tr>\n",
       "\t<tr><td> 7</td><td>madeline       </td><td>3140</td><td>  259</td><td>0.4971338</td><td>12.12355212</td></tr>\n",
       "\t<tr><td> 8</td><td>cnae-9         </td><td> 240</td><td>  282</td><td>0.5000000</td><td> 0.85106383</td></tr>\n",
       "\t<tr><td> 9</td><td>lsvt           </td><td> 126</td><td>  307</td><td>0.3333333</td><td> 0.41042345</td></tr>\n",
       "\t<tr><td>10</td><td>madelon        </td><td>2600</td><td>  500</td><td>0.5000000</td><td> 5.20000000</td></tr>\n",
       "\t<tr><td>11</td><td>isolet         </td><td> 600</td><td>  617</td><td>0.5000000</td><td> 0.97244733</td></tr>\n",
       "\t<tr><td>12</td><td>arcene         </td><td> 200</td><td> 9961</td><td>0.4400000</td><td> 0.02007831</td></tr>\n",
       "\t<tr><td>13</td><td>AP_Breast_Colon</td><td> 630</td><td>10935</td><td>0.4539683</td><td> 0.05761317</td></tr>\n",
       "\t<tr><td>14</td><td>AP_Colon_Kidney</td><td> 546</td><td>10935</td><td>0.4761905</td><td> 0.04993141</td></tr>\n",
       "</tbody>\n",
       "</table>\n"
      ],
      "text/latex": [
       "A data.table: 14 × 6\n",
       "\\begin{tabular}{llllll}\n",
       " V1 & id & n & p & class.ratio & np.ratio\\\\\n",
       " <int> & <chr> & <int> & <int> & <dbl> & <dbl>\\\\\n",
       "\\hline\n",
       "\t  1 & wdbc            &  569 &    30 & 0.3725835 & 18.96666667\\\\\n",
       "\t  2 & ionosphere      &  351 &    33 & 0.3589744 & 10.63636364\\\\\n",
       "\t  3 & sonar           &  208 &    60 & 0.4663462 &  3.46666667\\\\\n",
       "\t  4 & hill-valley     & 1212 &   100 & 0.4950495 & 12.12000000\\\\\n",
       "\t  5 & tecator         &  240 &   124 & 0.4250000 &  1.93548387\\\\\n",
       "\t  6 & semeion         &  319 &   256 & 0.4952978 &  1.24609375\\\\\n",
       "\t  7 & madeline        & 3140 &   259 & 0.4971338 & 12.12355212\\\\\n",
       "\t  8 & cnae-9          &  240 &   282 & 0.5000000 &  0.85106383\\\\\n",
       "\t  9 & lsvt            &  126 &   307 & 0.3333333 &  0.41042345\\\\\n",
       "\t 10 & madelon         & 2600 &   500 & 0.5000000 &  5.20000000\\\\\n",
       "\t 11 & isolet          &  600 &   617 & 0.5000000 &  0.97244733\\\\\n",
       "\t 12 & arcene          &  200 &  9961 & 0.4400000 &  0.02007831\\\\\n",
       "\t 13 & AP\\_Breast\\_Colon &  630 & 10935 & 0.4539683 &  0.05761317\\\\\n",
       "\t 14 & AP\\_Colon\\_Kidney &  546 & 10935 & 0.4761905 &  0.04993141\\\\\n",
       "\\end{tabular}\n"
      ],
      "text/markdown": [
       "\n",
       "A data.table: 14 × 6\n",
       "\n",
       "| V1 &lt;int&gt; | id &lt;chr&gt; | n &lt;int&gt; | p &lt;int&gt; | class.ratio &lt;dbl&gt; | np.ratio &lt;dbl&gt; |\n",
       "|---|---|---|---|---|---|\n",
       "|  1 | wdbc            |  569 |    30 | 0.3725835 | 18.96666667 |\n",
       "|  2 | ionosphere      |  351 |    33 | 0.3589744 | 10.63636364 |\n",
       "|  3 | sonar           |  208 |    60 | 0.4663462 |  3.46666667 |\n",
       "|  4 | hill-valley     | 1212 |   100 | 0.4950495 | 12.12000000 |\n",
       "|  5 | tecator         |  240 |   124 | 0.4250000 |  1.93548387 |\n",
       "|  6 | semeion         |  319 |   256 | 0.4952978 |  1.24609375 |\n",
       "|  7 | madeline        | 3140 |   259 | 0.4971338 | 12.12355212 |\n",
       "|  8 | cnae-9          |  240 |   282 | 0.5000000 |  0.85106383 |\n",
       "|  9 | lsvt            |  126 |   307 | 0.3333333 |  0.41042345 |\n",
       "| 10 | madelon         | 2600 |   500 | 0.5000000 |  5.20000000 |\n",
       "| 11 | isolet          |  600 |   617 | 0.5000000 |  0.97244733 |\n",
       "| 12 | arcene          |  200 |  9961 | 0.4400000 |  0.02007831 |\n",
       "| 13 | AP_Breast_Colon |  630 | 10935 | 0.4539683 |  0.05761317 |\n",
       "| 14 | AP_Colon_Kidney |  546 | 10935 | 0.4761905 |  0.04993141 |\n",
       "\n"
      ],
      "text/plain": [
       "   V1 id              n    p     class.ratio np.ratio   \n",
       "1   1 wdbc             569    30 0.3725835   18.96666667\n",
       "2   2 ionosphere       351    33 0.3589744   10.63636364\n",
       "3   3 sonar            208    60 0.4663462    3.46666667\n",
       "4   4 hill-valley     1212   100 0.4950495   12.12000000\n",
       "5   5 tecator          240   124 0.4250000    1.93548387\n",
       "6   6 semeion          319   256 0.4952978    1.24609375\n",
       "7   7 madeline        3140   259 0.4971338   12.12355212\n",
       "8   8 cnae-9           240   282 0.5000000    0.85106383\n",
       "9   9 lsvt             126   307 0.3333333    0.41042345\n",
       "10 10 madelon         2600   500 0.5000000    5.20000000\n",
       "11 11 isolet           600   617 0.5000000    0.97244733\n",
       "12 12 arcene           200  9961 0.4400000    0.02007831\n",
       "13 13 AP_Breast_Colon  630 10935 0.4539683    0.05761317\n",
       "14 14 AP_Colon_Kidney  546 10935 0.4761905    0.04993141"
      ]
     },
     "metadata": {},
     "output_type": "display_data"
    }
   ],
   "source": [
    "tab"
   ]
  },
  {
   "cell_type": "markdown",
   "metadata": {},
   "source": [
    "The versions we compare are: \n",
    "\n",
    "The versions we compare are: \n",
    "\n",
    "|Variant | Description | MO / SO | Internal Name |  |\n",
    "|---|---|---|---|---|\n",
    "|GA-MO-FE| GA-based Algorithm | MO | OGHFiFm |   |\n",
    "|BO-MO-FE | BO-based Algorithm | MO | BSMOF |    |\n",
    "|BO-SO | BO-based Algorithm | SO |  BS2RF | \"State-of-the-art\", no feature ensembles  |\n",
    "|BO-SO-FE | BO-based Algorithm | MO | BS2RF_ENS |  Our best candidate for SO, feature ensembles  |"
   ]
  },
  {
   "cell_type": "code",
   "execution_count": 418,
   "metadata": {},
   "outputs": [],
   "source": [
    "# Experiments to compare\n",
    "variants_internal = c(\"OGHFiFmS\", \"OIGFiFmS_no_hyperpars500\", \"BSMOF\", \"BS2RF_ENS_NJ\")\n",
    "variants = c(\"GA-MO-FE\", \"GA-MO-FE-NJ\", \"BO-MO-FE\", \"BO-MO-FE-NJ\")\n",
    "names(variants) = variants_internal # for revaluing later "
   ]
  },
  {
   "cell_type": "code",
   "execution_count": 419,
   "metadata": {},
   "outputs": [],
   "source": [
    "# read the files \n",
    "df = getObjSummaries(datasets = datasets, experiments = variants_internal)\n",
    "df$variant = revalue(df$variant, variants)"
   ]
  },
  {
   "cell_type": "code",
   "execution_count": 420,
   "metadata": {},
   "outputs": [
    {
     "data": {
      "text/html": [
       "<table>\n",
       "<caption>A data.table: 0 × 3</caption>\n",
       "<thead>\n",
       "\t<tr><th scope=col>variant</th><th scope=col>problem</th><th scope=col>N</th></tr>\n",
       "\t<tr><th scope=col>&lt;chr&gt;</th><th scope=col>&lt;chr&gt;</th><th scope=col>&lt;int&gt;</th></tr>\n",
       "</thead>\n",
       "<tbody>\n",
       "</tbody>\n",
       "</table>\n"
      ],
      "text/latex": [
       "A data.table: 0 × 3\n",
       "\\begin{tabular}{lll}\n",
       " variant & problem & N\\\\\n",
       " <chr> & <chr> & <int>\\\\\n",
       "\\hline\n",
       "\\end{tabular}\n"
      ],
      "text/markdown": [
       "\n",
       "A data.table: 0 × 3\n",
       "\n",
       "| variant &lt;chr&gt; | problem &lt;chr&gt; | N &lt;int&gt; |\n",
       "|---|---|---|\n",
       "\n"
      ],
      "text/plain": [
       "     variant problem N"
      ]
     },
     "metadata": {},
     "output_type": "display_data"
    },
    {
     "data": {
      "text/html": [
       "<table>\n",
       "<caption>A data.table: 0 × 3</caption>\n",
       "<thead>\n",
       "\t<tr><th scope=col>variant</th><th scope=col>problem</th><th scope=col>N</th></tr>\n",
       "\t<tr><th scope=col>&lt;chr&gt;</th><th scope=col>&lt;chr&gt;</th><th scope=col>&lt;int&gt;</th></tr>\n",
       "</thead>\n",
       "<tbody>\n",
       "</tbody>\n",
       "</table>\n"
      ],
      "text/latex": [
       "A data.table: 0 × 3\n",
       "\\begin{tabular}{lll}\n",
       " variant & problem & N\\\\\n",
       " <chr> & <chr> & <int>\\\\\n",
       "\\hline\n",
       "\\end{tabular}\n"
      ],
      "text/markdown": [
       "\n",
       "A data.table: 0 × 3\n",
       "\n",
       "| variant &lt;chr&gt; | problem &lt;chr&gt; | N &lt;int&gt; |\n",
       "|---|---|---|\n",
       "\n"
      ],
      "text/plain": [
       "     variant problem N"
      ]
     },
     "metadata": {},
     "output_type": "display_data"
    }
   ],
   "source": [
    "# sanity check if all is read properly\n",
    "dft = df[gen == 0, ]\n",
    "grid = setDT(expand.grid(variants, datasets))\n",
    "names(grid) = c(\"variant\", \"problem\")\n",
    "\n",
    "test = dft[, .N, by = c(\"variant\", \"problem\")]\n",
    "test = merge(grid, test, by = c(\"variant\", \"problem\"), all.x = TRUE)\n",
    "\n",
    "# both should be 0 \n",
    "test[is.na(N), ]\n",
    "test[N != 30, ]"
   ]
  },
  {
   "cell_type": "markdown",
   "metadata": {},
   "source": [
    "## Analysis\n",
    "\n",
    "Comparing Joint vs. non-joint"
   ]
  },
  {
   "cell_type": "code",
   "execution_count": 434,
   "metadata": {},
   "outputs": [],
   "source": [
    "dfp = df[evals == 2000, ]\n",
    "dfp = dfp[, .(meandomHV = mean(naive.hout.domHV)), by = c(\"variant\", \"learner\")]"
   ]
  },
  {
   "cell_type": "code",
   "execution_count": 435,
   "metadata": {},
   "outputs": [
    {
     "name": "stderr",
     "output_type": "stream",
     "text": [
      "Using meandomHV as value column: use value.var to override.\n",
      "\n"
     ]
    },
    {
     "data": {
      "text/html": [
       "<table>\n",
       "<caption>A data.frame: 3 × 5</caption>\n",
       "<thead>\n",
       "\t<tr><th scope=col>learner</th><th scope=col>BO-MO-FE</th><th scope=col>BO-MO-FE-NJ</th><th scope=col>GA-MO-FE</th><th scope=col>GA-MO-FE-NJ</th></tr>\n",
       "\t<tr><th scope=col>&lt;chr&gt;</th><th scope=col>&lt;dbl&gt;</th><th scope=col>&lt;dbl&gt;</th><th scope=col>&lt;dbl&gt;</th><th scope=col>&lt;dbl&gt;</th></tr>\n",
       "</thead>\n",
       "<tbody>\n",
       "\t<tr><td>kknn   </td><td>0.9217127</td><td>0.8669721</td><td>0.9108019</td><td>0.9134438</td></tr>\n",
       "\t<tr><td>SVM    </td><td>0.9330993</td><td>0.8718575</td><td>0.9240992</td><td>0.8891506</td></tr>\n",
       "\t<tr><td>xgboost</td><td>0.9163586</td><td>0.8940340</td><td>0.9165383</td><td>0.9120815</td></tr>\n",
       "</tbody>\n",
       "</table>\n"
      ],
      "text/latex": [
       "A data.frame: 3 × 5\n",
       "\\begin{tabular}{lllll}\n",
       " learner & BO-MO-FE & BO-MO-FE-NJ & GA-MO-FE & GA-MO-FE-NJ\\\\\n",
       " <chr> & <dbl> & <dbl> & <dbl> & <dbl>\\\\\n",
       "\\hline\n",
       "\t kknn    & 0.9217127 & 0.8669721 & 0.9108019 & 0.9134438\\\\\n",
       "\t SVM     & 0.9330993 & 0.8718575 & 0.9240992 & 0.8891506\\\\\n",
       "\t xgboost & 0.9163586 & 0.8940340 & 0.9165383 & 0.9120815\\\\\n",
       "\\end{tabular}\n"
      ],
      "text/markdown": [
       "\n",
       "A data.frame: 3 × 5\n",
       "\n",
       "| learner &lt;chr&gt; | BO-MO-FE &lt;dbl&gt; | BO-MO-FE-NJ &lt;dbl&gt; | GA-MO-FE &lt;dbl&gt; | GA-MO-FE-NJ &lt;dbl&gt; |\n",
       "|---|---|---|---|---|\n",
       "| kknn    | 0.9217127 | 0.8669721 | 0.9108019 | 0.9134438 |\n",
       "| SVM     | 0.9330993 | 0.8718575 | 0.9240992 | 0.8891506 |\n",
       "| xgboost | 0.9163586 | 0.8940340 | 0.9165383 | 0.9120815 |\n",
       "\n"
      ],
      "text/plain": [
       "  learner BO-MO-FE  BO-MO-FE-NJ GA-MO-FE  GA-MO-FE-NJ\n",
       "1 kknn    0.9217127 0.8669721   0.9108019 0.9134438  \n",
       "2 SVM     0.9330993 0.8718575   0.9240992 0.8891506  \n",
       "3 xgboost 0.9163586 0.8940340   0.9165383 0.9120815  "
      ]
     },
     "metadata": {},
     "output_type": "display_data"
    }
   ],
   "source": [
    "dfp = reshape2::dcast(dfp, formula = learner ~ variant)\n",
    "dfp"
   ]
  },
  {
   "cell_type": "code",
   "execution_count": 436,
   "metadata": {},
   "outputs": [],
   "source": [
    "print(xtable(dfp, type = \"latex\", digits = 4), file = \"viz/RQ4-table-summarized.tex\")"
   ]
  },
  {
   "cell_type": "code",
   "execution_count": 437,
   "metadata": {},
   "outputs": [
    {
     "name": "stderr",
     "output_type": "stream",
     "text": [
      "Using meandomHV as value column: use value.var to override.\n",
      "\n"
     ]
    }
   ],
   "source": [
    "dfp = df[evals == 2000, ]\n",
    "dfp = dfp[, .(meandomHV = mean(naive.hout.domHV)), by = c(\"variant\", \"learner\", \"problem\")]\n",
    "dfp = reshape2::dcast(dfp, formula = learner + problem ~ variant)"
   ]
  },
  {
   "cell_type": "code",
   "execution_count": 438,
   "metadata": {},
   "outputs": [],
   "source": [
    "print(xtable(dfp, type = \"latex\", digits = 4), file = \"viz/RQ4-table-detailed.tex\")"
   ]
  },
  {
   "cell_type": "code",
   "execution_count": null,
   "metadata": {},
   "outputs": [],
   "source": []
  }
 ],
 "metadata": {
  "kernelspec": {
   "display_name": "R",
   "language": "R",
   "name": "ir"
  },
  "language_info": {
   "codemirror_mode": "r",
   "file_extension": ".r",
   "mimetype": "text/x-r-source",
   "name": "R",
   "pygments_lexer": "r",
   "version": "3.6.2"
  }
 },
 "nbformat": 4,
 "nbformat_minor": 2
}
