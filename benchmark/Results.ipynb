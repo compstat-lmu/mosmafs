{
 "cells": [
  {
   "cell_type": "markdown",
   "metadata": {},
   "source": [
    "# Multiobjective Simulatenous Hyperparameter Optimization and Features Selection"
   ]
  },
  {
   "cell_type": "code",
   "execution_count": 12,
   "metadata": {},
   "outputs": [],
   "source": [
    "library(data.table)\n",
    "library(ggplot2)\n",
    "library(batchtools)\n",
    "library(gridExtra)\n",
    "library(ggpubr)"
   ]
  },
  {
   "cell_type": "code",
   "execution_count": 9,
   "metadata": {},
   "outputs": [],
   "source": [
    "source(\"helpers.R\")"
   ]
  },
  {
   "cell_type": "code",
   "execution_count": 10,
   "metadata": {},
   "outputs": [],
   "source": [
    "# path where all results are stored \n",
    "respath = \"results_reduced\""
   ]
  },
  {
   "cell_type": "code",
   "execution_count": 13,
   "metadata": {},
   "outputs": [
    {
     "name": "stderr",
     "output_type": "stream",
     "text": [
      "Warning message:\n",
      "“New theme missing the following elements: line, rect, text, axis.title.x, axis.title.x.top, axis.title.y, axis.title.y.right, axis.text, axis.text.x, axis.text.x.top, axis.text.y, axis.text.y.right, axis.ticks, axis.ticks.length, axis.ticks.length.x, axis.ticks.length.x.top, axis.ticks.length.x.bottom, axis.ticks.length.y, axis.ticks.length.y.left, axis.ticks.length.y.right, axis.line, axis.line.x, axis.line.y, legend.background, legend.margin, legend.spacing, legend.spacing.x, legend.spacing.y, legend.key, legend.key.size, legend.key.height, legend.key.width, legend.text, legend.text.align, legend.title, legend.title.align, legend.position, legend.direction, legend.justification, legend.box, legend.box.margin, legend.box.background, legend.box.spacing, panel.background, panel.border, panel.spacing, panel.spacing.x, panel.spacing.y, panel.grid, panel.grid.minor, panel.ontop, plot.background, plot.title, plot.subtitle, plot.caption, plot.tag, plot.tag.position, plot.margin, strip.background, strip.placement, strip.text, strip.text.x, strip.text.y, strip.switch.pad.grid, strip.switch.pad.wrap”\n"
     ]
    }
   ],
   "source": [
    "# set ggplot theme for nice visualizations\n",
    "theme_set(theme_Publication)"
   ]
  },
  {
   "cell_type": "code",
   "execution_count": 14,
   "metadata": {},
   "outputs": [
    {
     "data": {
      "text/html": [
       "<pre class=language-r><code>function (base_size = 14, base_family = \"helvetica\") \n",
       "{\n",
       "<span style=white-space:pre-wrap>    library(grid)</span>\n",
       "<span style=white-space:pre-wrap>    library(ggthemes)</span>\n",
       "<span style=white-space:pre-wrap>    (theme_foundation(base_size = base_size) + theme(plot.title = element_text(face = \"bold\", </span>\n",
       "<span style=white-space:pre-wrap>        size = rel(1.2), hjust = 0.5), text = element_text(), </span>\n",
       "<span style=white-space:pre-wrap>        panel.background = element_rect(colour = NA), plot.background = element_rect(colour = NA), </span>\n",
       "<span style=white-space:pre-wrap>        panel.border = element_rect(colour = NA), axis.title = element_text(face = \"bold\", </span>\n",
       "<span style=white-space:pre-wrap>            size = rel(1)), axis.title.y = element_text(angle = 90, </span>\n",
       "<span style=white-space:pre-wrap>            vjust = 2), axis.title.x = element_text(vjust = -0.2), </span>\n",
       "<span style=white-space:pre-wrap>        axis.text = element_text(), axis.line = element_line(colour = \"black\"), </span>\n",
       "<span style=white-space:pre-wrap>        axis.ticks = element_line(), panel.grid.major = element_line(colour = \"#f0f0f0\"), </span>\n",
       "<span style=white-space:pre-wrap>        panel.grid.minor = element_blank(), legend.key = element_rect(colour = NA), </span>\n",
       "<span style=white-space:pre-wrap>        legend.position = \"bottom\", legend.direction = \"horizontal\", </span>\n",
       "<span style=white-space:pre-wrap>        legend.key.size = unit(0.5, \"cm\"), legend.margin = unit(0, </span>\n",
       "<span style=white-space:pre-wrap>            \"cm\"), legend.title = element_text(face = \"italic\"), </span>\n",
       "<span style=white-space:pre-wrap>        plot.margin = unit(c(10, 5, 5, 5), \"mm\"), strip.background = element_rect(colour = \"#f0f0f0\", </span>\n",
       "<span style=white-space:pre-wrap>            fill = \"#f0f0f0\"), strip.text = element_text(face = \"bold\")))</span>\n",
       "}</code></pre>"
      ],
      "text/latex": [
       "\\begin{minted}{r}\n",
       "function (base\\_size = 14, base\\_family = \"helvetica\") \n",
       "\\{\n",
       "    library(grid)\n",
       "    library(ggthemes)\n",
       "    (theme\\_foundation(base\\_size = base\\_size) + theme(plot.title = element\\_text(face = \"bold\", \n",
       "        size = rel(1.2), hjust = 0.5), text = element\\_text(), \n",
       "        panel.background = element\\_rect(colour = NA), plot.background = element\\_rect(colour = NA), \n",
       "        panel.border = element\\_rect(colour = NA), axis.title = element\\_text(face = \"bold\", \n",
       "            size = rel(1)), axis.title.y = element\\_text(angle = 90, \n",
       "            vjust = 2), axis.title.x = element\\_text(vjust = -0.2), \n",
       "        axis.text = element\\_text(), axis.line = element\\_line(colour = \"black\"), \n",
       "        axis.ticks = element\\_line(), panel.grid.major = element\\_line(colour = \"\\#f0f0f0\"), \n",
       "        panel.grid.minor = element\\_blank(), legend.key = element\\_rect(colour = NA), \n",
       "        legend.position = \"bottom\", legend.direction = \"horizontal\", \n",
       "        legend.key.size = unit(0.5, \"cm\"), legend.margin = unit(0, \n",
       "            \"cm\"), legend.title = element\\_text(face = \"italic\"), \n",
       "        plot.margin = unit(c(10, 5, 5, 5), \"mm\"), strip.background = element\\_rect(colour = \"\\#f0f0f0\", \n",
       "            fill = \"\\#f0f0f0\"), strip.text = element\\_text(face = \"bold\")))\n",
       "\\}\n",
       "\\end{minted}"
      ],
      "text/markdown": [
       "```r\n",
       "function (base_size = 14, base_family = \"helvetica\") \n",
       "{\n",
       "    library(grid)\n",
       "    library(ggthemes)\n",
       "    (theme_foundation(base_size = base_size) + theme(plot.title = element_text(face = \"bold\", \n",
       "        size = rel(1.2), hjust = 0.5), text = element_text(), \n",
       "        panel.background = element_rect(colour = NA), plot.background = element_rect(colour = NA), \n",
       "        panel.border = element_rect(colour = NA), axis.title = element_text(face = \"bold\", \n",
       "            size = rel(1)), axis.title.y = element_text(angle = 90, \n",
       "            vjust = 2), axis.title.x = element_text(vjust = -0.2), \n",
       "        axis.text = element_text(), axis.line = element_line(colour = \"black\"), \n",
       "        axis.ticks = element_line(), panel.grid.major = element_line(colour = \"#f0f0f0\"), \n",
       "        panel.grid.minor = element_blank(), legend.key = element_rect(colour = NA), \n",
       "        legend.position = \"bottom\", legend.direction = \"horizontal\", \n",
       "        legend.key.size = unit(0.5, \"cm\"), legend.margin = unit(0, \n",
       "            \"cm\"), legend.title = element_text(face = \"italic\"), \n",
       "        plot.margin = unit(c(10, 5, 5, 5), \"mm\"), strip.background = element_rect(colour = \"#f0f0f0\", \n",
       "            fill = \"#f0f0f0\"), strip.text = element_text(face = \"bold\")))\n",
       "}\n",
       "```"
      ],
      "text/plain": [
       "function (base_size = 14, base_family = \"helvetica\") \n",
       "{\n",
       "    library(grid)\n",
       "    library(ggthemes)\n",
       "    (theme_foundation(base_size = base_size) + theme(plot.title = element_text(face = \"bold\", \n",
       "        size = rel(1.2), hjust = 0.5), text = element_text(), \n",
       "        panel.background = element_rect(colour = NA), plot.background = element_rect(colour = NA), \n",
       "        panel.border = element_rect(colour = NA), axis.title = element_text(face = \"bold\", \n",
       "            size = rel(1)), axis.title.y = element_text(angle = 90, \n",
       "            vjust = 2), axis.title.x = element_text(vjust = -0.2), \n",
       "        axis.text = element_text(), axis.line = element_line(colour = \"black\"), \n",
       "        axis.ticks = element_line(), panel.grid.major = element_line(colour = \"#f0f0f0\"), \n",
       "        panel.grid.minor = element_blank(), legend.key = element_rect(colour = NA), \n",
       "        legend.position = \"bottom\", legend.direction = \"horizontal\", \n",
       "        legend.key.size = unit(0.5, \"cm\"), legend.margin = unit(0, \n",
       "            \"cm\"), legend.title = element_text(face = \"italic\"), \n",
       "        plot.margin = unit(c(10, 5, 5, 5), \"mm\"), strip.background = element_rect(colour = \"#f0f0f0\", \n",
       "            fill = \"#f0f0f0\"), strip.text = element_text(face = \"bold\")))\n",
       "}"
      ]
     },
     "metadata": {},
     "output_type": "display_data"
    }
   ],
   "source": [
    "theme_Publication"
   ]
  },
  {
   "cell_type": "markdown",
   "metadata": {},
   "source": [
    "## 1 Multiobjective Performance Assessment\n",
    "\n",
    "In this section, we evaluate performance via the dominated hypervolume. "
   ]
  },
  {
   "cell_type": "markdown",
   "metadata": {},
   "source": [
    "### 1a ... versus Evaluations"
   ]
  },
  {
   "cell_type": "markdown",
   "metadata": {},
   "source": [
    "#### 1a.i Training Performance"
   ]
  },
  {
   "cell_type": "markdown",
   "metadata": {},
   "source": [
    "#### 1a.i Test Performance"
   ]
  },
  {
   "cell_type": "markdown",
   "metadata": {},
   "source": [
    "### 1b ... versus Time "
   ]
  },
  {
   "cell_type": "markdown",
   "metadata": {},
   "source": [
    "### 1c Statistical Performance Evaluation "
   ]
  },
  {
   "cell_type": "markdown",
   "metadata": {},
   "source": [
    "## 2 Performance-Sparsity-Trade-Off"
   ]
  },
  {
   "cell_type": "markdown",
   "metadata": {},
   "source": [
    "## 3 Joint vs non-joint"
   ]
  },
  {
   "cell_type": "code",
   "execution_count": 15,
   "metadata": {},
   "outputs": [],
   "source": [
    "x1 = seq(0, 1, by = 0.01)\n",
    "x2 = x1"
   ]
  },
  {
   "cell_type": "code",
   "execution_count": null,
   "metadata": {},
   "outputs": [],
   "source": []
  }
 ],
 "metadata": {
  "kernelspec": {
   "display_name": "R",
   "language": "R",
   "name": "ir"
  },
  "language_info": {
   "codemirror_mode": "r",
   "file_extension": ".r",
   "mimetype": "text/x-r-source",
   "name": "R",
   "pygments_lexer": "r",
   "version": "3.6.2"
  }
 },
 "nbformat": 4,
 "nbformat_minor": 2
}
